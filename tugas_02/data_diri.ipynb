{
 "cells": [
  {
   "cell_type": "code",
   "execution_count": 3,
   "metadata": {},
   "outputs": [
    {
     "name": "stdout",
     "output_type": "stream",
     "text": [
      "-- DATA DIRI --\n",
      "Nama:  Alnino Dio Putera\n",
      "Nim:  20210801452\n",
      "Mata Kuliah:  Machine Learning\n"
     ]
    }
   ],
   "source": [
    "nama = 'Alnino Dio Putera'\n",
    "nim = '20210801452'\n",
    "mata_kuliah = 'Machine Learning'\n",
    "\n",
    "print('-- DATA DIRI --')\n",
    "print('Nama: ', nama)\n",
    "print('Nim: ',nim)\n",
    "print('Mata Kuliah: ',mata_kuliah)"
   ]
  },
  {
   "cell_type": "code",
   "execution_count": null,
   "metadata": {},
   "outputs": [],
   "source": []
  }
 ],
 "metadata": {
  "kernelspec": {
   "display_name": "Python 3",
   "language": "python",
   "name": "python3"
  },
  "language_info": {
   "codemirror_mode": {
    "name": "ipython",
    "version": 3
   },
   "file_extension": ".py",
   "mimetype": "text/x-python",
   "name": "python",
   "nbconvert_exporter": "python",
   "pygments_lexer": "ipython3",
   "version": "3.10.12"
  },
  "orig_nbformat": 4
 },
 "nbformat": 4,
 "nbformat_minor": 2
}
