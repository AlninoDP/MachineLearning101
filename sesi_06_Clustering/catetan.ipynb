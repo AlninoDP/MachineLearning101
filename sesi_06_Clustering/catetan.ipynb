{
 "cells": [
  {
   "cell_type": "markdown",
   "metadata": {},
   "source": [
    "Pengertian Clustering"
   ]
  },
  {
   "cell_type": "markdown",
   "metadata": {},
   "source": [
    "Clustering adalah salah satu metode dalam machine learning yang digunakan untuk mengelompokkan data menjadi kelompok-kelompok yang serupa berdasarkan kesamaan fitur atau karakteristik tertentu."
   ]
  },
  {
   "cell_type": "markdown",
   "metadata": {},
   "source": [
    "Clustering termasuk unsupervised learning dalam Machine Learning. Dalam unsupervised learning, model tidak diberikan label atau informasi target yang jelas. Sebaliknya, algoritma diarahkan untuk mengeksplorasi struktur data sendiri dan mengelompokkan data berdasarkan kesamaan fitur tertentu."
   ]
  },
  {
   "cell_type": "markdown",
   "metadata": {},
   "source": [
    "Algoritma K-Means"
   ]
  },
  {
   "cell_type": "markdown",
   "metadata": {},
   "source": [
    "Tujuan dari KMeans adalah untuk mengelompokkan data ke dalam kelompok-kelompok (clusters) berdasarkan kemiripan atribut. "
   ]
  },
  {
   "cell_type": "markdown",
   "metadata": {},
   "source": [
    "langkah-langkah algoritma K-Means:"
   ]
  },
  {
   "cell_type": "markdown",
   "metadata": {},
   "source": [
    "\n",
    "1. Inisialisasi Sentroid (titik tengah):Pilih jumlah k (jumlah cluster) yang diinginkan.Pilih secara acak k titik sebagai sentroid awal, satu untuk setiap cluster.\n",
    "\n",
    "2. Pengelompokan Data: Hitung jarak (biasanya menggunakan Euclidean distance) antara setiap data dengan masing-masing sentroid.Tentukan cluster terdekat untuk setiap data berdasarkan jarak terkecil.\n",
    "\n",
    "3. Perbarui Sentroid: Hitung rata-rata (mean) dari data dalam setiap cluster.Perbarui sentroid untuk mewakili rata-rata baru dari setiap cluster.\n",
    "\n",
    "4. Ulangi Langkah 2 dan 3: Ulangi langkah 2 dan 3 hingga tidak ada perubahan signifikan dalam pengelompokan atau hingga mencapai batas iterasi yang ditentukan sebelumnya.\n",
    "\n",
    "5. Hasil Akhir:Setelah konvergensi, data telah dikelompokkan ke dalam k cluster, dan sentroid mewakili pusat dari setiap cluster."
   ]
  },
  {
   "cell_type": "markdown",
   "metadata": {},
   "source": [
    "Algoritma Hierarki"
   ]
  },
  {
   "cell_type": "markdown",
   "metadata": {},
   "source": [
    "Hierarki clustering membangun struktur hierarki dari data. Terdapat dua pendekatan utama dalam hierarki clustering: agglomerative (bottom-up) dan divisive (top-down)."
   ]
  },
  {
   "cell_type": "markdown",
   "metadata": {},
   "source": [
    "1. Agglomerative Hierarchical Clustering:"
   ]
  },
  {
   "cell_type": "markdown",
   "metadata": {},
   "source": [
    "- Setiap data awalnya dianggap sebagai satu cluster.\n",
    "- Pada setiap iterasi, dua cluster yang paling mirip digabung menjadi satu.\n",
    "- Proses ini berlanjut hingga semua data menjadi satu cluster.\n",
    "\n",
    "Langkahnya dapat dijelaskan sebagai berikut:\n",
    "\n",
    "a. Hitung matriks jarak antar cluster.\n",
    "\n",
    "b. Gabung dua cluster terdekat.\n",
    "\n",
    "c. Perbarui matriks jarak.\n",
    "\n",
    "d. Ulangi langkah b dan c hingga hanya satu cluster yang tersisa."
   ]
  },
  {
   "cell_type": "markdown",
   "metadata": {},
   "source": [
    "2. Divisive Hierarchical Clustering:"
   ]
  },
  {
   "cell_type": "markdown",
   "metadata": {},
   "source": [
    "- Semua data awalnya dianggap sebagai satu cluster tunggal.\n",
    "- Pada setiap iterasi, cluster yang dipilih dibagi menjadi dua cluster yang lebih kecil.\n",
    "- Proses ini berlanjut hingga setiap data membentuk satu cluster.\n",
    "\n",
    "Langkahnya dapat dijelaskan sebagai berikut:\n",
    "\n",
    "a. Hitung matriks jarak antar data.\n",
    "\n",
    "b. Pilih cluster yang akan dibagi.\n",
    "\n",
    "c. Bagi cluster tersebut menjadi dua.\n",
    "\n",
    "d. Perbarui matriks jarak.\n",
    "\n",
    "e. Ulangi langkah b, c, dan d hingga setiap data memiliki cluster sendiri."
   ]
  },
  {
   "cell_type": "markdown",
   "metadata": {},
   "source": [
    "Hasil hierarki dapat direpresentasikan dalam bentuk dendrogram, yang menunjukkan bagaimana cluster dibentuk dan hubungan antar cluster."
   ]
  }
 ],
 "metadata": {
  "language_info": {
   "name": "python"
  }
 },
 "nbformat": 4,
 "nbformat_minor": 2
}
