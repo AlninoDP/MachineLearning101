{
 "cells": [
  {
   "cell_type": "markdown",
   "metadata": {},
   "source": [
    "Metode Menemukan jumlah klaster(k)"
   ]
  },
  {
   "cell_type": "markdown",
   "metadata": {},
   "source": [
    "1. Elbow Method"
   ]
  },
  {
   "cell_type": "markdown",
   "metadata": {},
   "source": [
    "- Jalankan algoritma K-means untuk berbagai nilai k.\n",
    "\n",
    "- Hitung nilai inersia (sum of squared distances antara titik data dan centroid dalam suatu klaster) untuk setiap k.\n",
    "\n",
    "- Gambar grafik inersia terhadap nilai k.\n",
    "\n",
    "- Jika grafik menunjukkan titik \"elbow\" di mana penurunan inersia melambat secara signifikan, pilih k pada titik tersebut."
   ]
  },
  {
   "cell_type": "markdown",
   "metadata": {},
   "source": [
    "2. Sillhoette Score"
   ]
  },
  {
   "cell_type": "markdown",
   "metadata": {},
   "source": [
    "- Hitung skor silhouette untuk berbagai nilai k.\n",
    "\n",
    "- Skor silhouette mengukur seberapa baik setiap data poin \n",
    "ditempatkan dalam klasternya sendiri dibandingkan dengan klaster tetangga terdekat.\n",
    "\n",
    "- Pilih k yang memberikan skor silhouette tertinggi."
   ]
  },
  {
   "cell_type": "markdown",
   "metadata": {},
   "source": [
    "3. Dendrogam untuk Hierarki Clustering"
   ]
  },
  {
   "cell_type": "markdown",
   "metadata": {},
   "source": [
    "- Gunakan metode hierarki untuk menghasilkan dendrogram.\n",
    "\n",
    "- Tentukan jumlah klaster berdasarkan titik pemotongan dendrogram yang sesuai."
   ]
  }
 ],
 "metadata": {
  "language_info": {
   "name": "python"
  }
 },
 "nbformat": 4,
 "nbformat_minor": 2
}
