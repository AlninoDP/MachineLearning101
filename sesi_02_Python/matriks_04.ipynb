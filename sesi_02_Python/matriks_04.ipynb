{
 "cells": [
  {
   "cell_type": "code",
   "execution_count": 6,
   "metadata": {},
   "outputs": [
    {
     "name": "stdout",
     "output_type": "stream",
     "text": [
      "[[3 2 4 4 1 4 4 1 2 4 4 3 2 2 1 1 1 1 3 2 2 3 3 3 1 1 1 4 2 4]\n",
      " [1 2 2 1 1 4 3 1 4 1 1 4 2 3 2 4 3 3 3 4 2 4 2 1 1 1 2 2 2 2]\n",
      " [1 4 3 4 1 3 3 1 3 2 2 1 4 3 1 3 4 4 4 4 1 4 1 3 4 1 3 2 1 4]]\n"
     ]
    }
   ],
   "source": [
    "import numpy as np\n",
    "\n",
    "matriks = np.random.randint(1,5,(3,30)) # generate array with 2 row, 30 column containing random number from 1-4\n",
    "print(matriks)\n",
    "\n",
    "\n",
    "#* -- NOTE --\n",
    "# random.randint() -> generate random number\n",
    "# random.randint(low, high, size) \n",
    "# parameter low = the lowest number\n",
    "# parameter high = the highest number\n",
    "# parameter size() = generate random array\n",
    "# parameter size(5) generate 1D array \n",
    "# parameter size(2,4) generate 2D array with 2 row, 4 collumn"
   ]
  },
  {
   "cell_type": "code",
   "execution_count": null,
   "metadata": {},
   "outputs": [],
   "source": []
  }
 ],
 "metadata": {
  "kernelspec": {
   "display_name": "Python 3",
   "language": "python",
   "name": "python3"
  },
  "language_info": {
   "codemirror_mode": {
    "name": "ipython",
    "version": 3
   },
   "file_extension": ".py",
   "mimetype": "text/x-python",
   "name": "python",
   "nbconvert_exporter": "python",
   "pygments_lexer": "ipython3",
   "version": "3.10.12"
  },
  "orig_nbformat": 4
 },
 "nbformat": 4,
 "nbformat_minor": 2
}
