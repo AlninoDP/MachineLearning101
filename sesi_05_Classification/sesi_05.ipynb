{
 "cells": [
  {
   "cell_type": "code",
   "execution_count": 1,
   "metadata": {},
   "outputs": [],
   "source": [
    "from sklearn.utils import shuffle\n",
    "import pandas as pd\n",
    "import numpy as np\n",
    "from sklearn import linear_model, preprocessing\n",
    "\n",
    "dataset = pd.read_csv('k-nn/Dataset.csv')\n",
    "data = dataset.iloc[:,1:] "
   ]
  },
  {
   "cell_type": "markdown",
   "metadata": {},
   "source": [
    "Encoding Categorical data into Numerical Data"
   ]
  },
  {
   "cell_type": "code",
   "execution_count": 2,
   "metadata": {},
   "outputs": [
    {
     "name": "stdout",
     "output_type": "stream",
     "text": [
      "[3 3 3 ... 1 1 1]\n",
      "[3 3 3 ... 1 1 1]\n",
      "[0 0 0 ... 3 3 3]\n",
      "[0 0 0 ... 2 2 2]\n",
      "[2 2 2 ... 0 0 0]\n",
      "[1 2 0 ... 1 2 0]\n",
      "[2 2 2 ... 2 1 3]\n"
     ]
    }
   ],
   "source": [
    "le = preprocessing.LabelEncoder()\n",
    "buying = le.fit_transform(list(dataset[\"buying\"]))\n",
    "maint = le.fit_transform(list(dataset[\"maint\"]))\n",
    "door = le.fit_transform(list(dataset[\"door\"]))\n",
    "persons = le.fit_transform(list(dataset[\"persons\"]))\n",
    "lug_boot = le.fit_transform(list(dataset[\"lug_boot\"]))\n",
    "safety = le.fit_transform(list(dataset[\"safety\"]))\n",
    "cls = le.fit_transform(list(dataset[\"class\"]))\n",
    "print(buying)\n",
    "print(maint)\n",
    "print(door)\n",
    "print(persons)\n",
    "print(lug_boot)\n",
    "print(safety)\n",
    "print(cls)"
   ]
  },
  {
   "cell_type": "markdown",
   "metadata": {},
   "source": [
    "Splitting Dataset"
   ]
  },
  {
   "cell_type": "code",
   "execution_count": 8,
   "metadata": {},
   "outputs": [],
   "source": [
    "from sklearn.model_selection import train_test_split\n",
    "\n",
    "predict = \"class\"\n",
    "x = list(zip(buying, maint, door, persons, lug_boot, safety)) # features\n",
    "y = list(cls) # labels\n",
    "x_train, x_test, y_train, y_test = train_test_split(x, y, test_size = 0.1)"
   ]
  },
  {
   "cell_type": "markdown",
   "metadata": {},
   "source": []
  },
  {
   "cell_type": "code",
   "execution_count": null,
   "metadata": {},
   "outputs": [],
   "source": [
    "from sklearn.neighbors import KNeighborsClassifier\n",
    "\n",
    "\n",
    "neighbors = 9\n",
    "model = KNeighborsClassifier(n_neighbors=neighbors)\n",
    "model.fit(x_train, y_train)\n",
    "\n",
    "acc = model.score(x_test, y_test) ### akurasi model\n",
    "print(acc)"
   ]
  }
 ],
 "metadata": {
  "kernelspec": {
   "display_name": "Python 3",
   "language": "python",
   "name": "python3"
  },
  "language_info": {
   "codemirror_mode": {
    "name": "ipython",
    "version": 3
   },
   "file_extension": ".py",
   "mimetype": "text/x-python",
   "name": "python",
   "nbconvert_exporter": "python",
   "pygments_lexer": "ipython3",
   "version": "3.10.12"
  }
 },
 "nbformat": 4,
 "nbformat_minor": 2
}
