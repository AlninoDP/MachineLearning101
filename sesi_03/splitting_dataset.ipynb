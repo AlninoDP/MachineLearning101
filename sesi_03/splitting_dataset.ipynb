{
 "cells": [
  {
   "cell_type": "markdown",
   "metadata": {},
   "source": [
    "Splitting the dataset into the Training set and Test set"
   ]
  },
  {
   "cell_type": "code",
   "execution_count": 32,
   "metadata": {},
   "outputs": [
    {
     "name": "stdout",
     "output_type": "stream",
     "text": [
      "[[    1     0     0    44 72000]\n",
      " [    0     0     1    27 48000]\n",
      " [    0     1     0    30 54000]\n",
      " [    0     0     1    38 61000]\n",
      " [    0     1     0    40 63777]\n",
      " [    1     0     0    35 58000]\n",
      " [    0     0     1    38 52000]\n",
      " [    1     0     0    48 79000]\n",
      " [    0     1     0    50 83000]\n",
      " [    1     0     0    37 67000]]\n",
      "[0 1 0 0 1 1 0 1 0 1]\n"
     ]
    }
   ],
   "source": [
    "from sklearn.impute import SimpleImputer\n",
    "from sklearn.compose import ColumnTransformer\n",
    "from sklearn.preprocessing import OneHotEncoder\n",
    "import pandas as pd \n",
    "import numpy as np\n",
    "#* importing dataset\n",
    "dataset = pd.read_csv('Dataset.csv') \n",
    "\n",
    "x = dataset.iloc[:, :-1]  \n",
    "y = dataset.iloc[: , -1]  \n",
    "z = dataset.iloc[[2]] \n",
    "\n",
    "\n",
    "\n",
    "#* taking care of missing data\n",
    "imputer = SimpleImputer(missing_values=np.nan, strategy='mean')\n",
    "imputer.fit(x.iloc[:, 1:3])\n",
    "x.iloc[:, 1:3] = imputer.transform(x.iloc[:, 1:3]) \n",
    "\n",
    "#* Encoding\n",
    "ct = ColumnTransformer(transformers=[('encoder', OneHotEncoder(), [0])], remainder='passthrough')\n",
    "x = np.array(ct.fit_transform(x)) \n",
    "x = x.astype(int)\n",
    "\n",
    "print(x)\n",
    "\n",
    "from sklearn.preprocessing import LabelEncoder\n",
    "le = LabelEncoder()\n",
    "y = dataset.iloc[: , -1]\n",
    "y = le.fit_transform(y)\n",
    "print(y)\n",
    "\n",
    "\n",
    "\n"
   ]
  },
  {
   "cell_type": "code",
   "execution_count": 33,
   "metadata": {},
   "outputs": [
    {
     "name": "stdout",
     "output_type": "stream",
     "text": [
      "(8, 5)\n"
     ]
    }
   ],
   "source": [
    "### train_test_split() digunakan untuk membagi dataset menjadi dua subset yang terpisah: \n",
    "### subset pelatihan (training set) dan subset pengujian (test set).\n",
    "### sehingga Anda dapat melatih model pada satu bagian dan menguji model pada bagian lainnya.\n",
    "\n",
    "### Parameter test_size mengontrol proporsi data yang akan diambil sebagai pengujian.\n",
    "### Parameter random_state digunakan untuk mengontrol inisialisasi generator angka acak, sehingga hasil split data dapat direproduksi.\n",
    "\n",
    "from sklearn.model_selection import train_test_split\n",
    "### Memisahkan dataset menjadi subset pelatihan dan pengujian (dalam contoh ini, 80% pelatihan, 20% pengujian)\n",
    "x_train, x_test, y_train, y_test = train_test_split(x, y, test_size = 0.2, random_state = 1)\n",
    "\n",
    "print(x_train)\n",
    "\n"
   ]
  },
  {
   "cell_type": "code",
   "execution_count": 34,
   "metadata": {},
   "outputs": [
    {
     "name": "stdout",
     "output_type": "stream",
     "text": [
      "[[    0     1     0    30 54000]\n",
      " [    1     0     0    37 67000]]\n"
     ]
    }
   ],
   "source": [
    "print(x_test)"
   ]
  },
  {
   "cell_type": "code",
   "execution_count": 35,
   "metadata": {},
   "outputs": [
    {
     "name": "stdout",
     "output_type": "stream",
     "text": [
      "[0 1 0 0 1 1 0 1]\n"
     ]
    }
   ],
   "source": [
    "print(y_train)"
   ]
  },
  {
   "cell_type": "code",
   "execution_count": 36,
   "metadata": {},
   "outputs": [
    {
     "name": "stdout",
     "output_type": "stream",
     "text": [
      "[0 1]\n"
     ]
    }
   ],
   "source": [
    "print(y_test)"
   ]
  }
 ],
 "metadata": {
  "kernelspec": {
   "display_name": "Python 3",
   "language": "python",
   "name": "python3"
  },
  "language_info": {
   "codemirror_mode": {
    "name": "ipython",
    "version": 3
   },
   "file_extension": ".py",
   "mimetype": "text/x-python",
   "name": "python",
   "nbconvert_exporter": "python",
   "pygments_lexer": "ipython3",
   "version": "3.10.12"
  }
 },
 "nbformat": 4,
 "nbformat_minor": 2
}
