{
 "cells": [
  {
   "cell_type": "markdown",
   "metadata": {},
   "source": [
    "e) Siapa yang datang pada hari minggu?"
   ]
  },
  {
   "cell_type": "code",
   "execution_count": 1,
   "metadata": {},
   "outputs": [
    {
     "data": {
      "text/plain": [
       "<bound method NDFrame.describe of      Hari  Datang   Biaya Mahasiswa\n",
       "0   Senin       2   60000       Ani\n",
       "1  Selasa       3  105000      Budi\n",
       "2    Rabu       4  100000      Jono\n",
       "3   Kamis       1   15000      Lono\n",
       "4   Jumat       2   40000      Joni\n",
       "5   Sabtu       5  150000       Ani\n",
       "6  Minggu       2   70000      Budi>"
      ]
     },
     "execution_count": 1,
     "metadata": {},
     "output_type": "execute_result"
    }
   ],
   "source": [
    "import numpy as np\n",
    "import pandas as pd\n",
    "\n",
    "dataset = pd.read_csv('Dataset.csv')\n",
    "dataset.describe\n"
   ]
  },
  {
   "cell_type": "code",
   "execution_count": 2,
   "metadata": {},
   "outputs": [
    {
     "name": "stdout",
     "output_type": "stream",
     "text": [
      "0    False\n",
      "1    False\n",
      "2    False\n",
      "3    False\n",
      "4    False\n",
      "5    False\n",
      "6     True\n",
      "Name: Hari, dtype: bool\n",
      "\n",
      "Nama Mahasiswa: Budi\n"
     ]
    }
   ],
   "source": [
    "mahasiswa = dataset['Hari'] == 'Minggu'\n",
    "print(mahasiswa)\n",
    "\n",
    "mahasiswa_minggu = dataset[dataset['Hari'] == 'Minggu']['Mahasiswa'].values[0]\n",
    "print('\\nNama Mahasiswa:',mahasiswa_minggu)"
   ]
  }
 ],
 "metadata": {
  "kernelspec": {
   "display_name": "Python 3",
   "language": "python",
   "name": "python3"
  },
  "language_info": {
   "codemirror_mode": {
    "name": "ipython",
    "version": 3
   },
   "file_extension": ".py",
   "mimetype": "text/x-python",
   "name": "python",
   "nbconvert_exporter": "python",
   "pygments_lexer": "ipython3",
   "version": "3.10.12"
  }
 },
 "nbformat": 4,
 "nbformat_minor": 2
}
