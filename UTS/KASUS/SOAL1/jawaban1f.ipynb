{
 "cells": [
  {
   "cell_type": "markdown",
   "metadata": {},
   "source": [
    "f) Berapa biaya tertinggi dan terendah?"
   ]
  },
  {
   "cell_type": "code",
   "execution_count": 1,
   "metadata": {},
   "outputs": [
    {
     "data": {
      "text/plain": [
       "<bound method NDFrame.describe of      Hari  Datang   Biaya Mahasiswa\n",
       "0   Senin       2   60000       Ani\n",
       "1  Selasa       3  105000      Budi\n",
       "2    Rabu       4  100000      Jono\n",
       "3   Kamis       1   15000      Lono\n",
       "4   Jumat       2   40000      Joni\n",
       "5   Sabtu       5  150000       Ani\n",
       "6  Minggu       2   70000      Budi>"
      ]
     },
     "execution_count": 1,
     "metadata": {},
     "output_type": "execute_result"
    }
   ],
   "source": [
    "import numpy as np\n",
    "import pandas as pd\n",
    "\n",
    "dataset = pd.read_csv('Dataset.csv')\n",
    "dataset.describe\n"
   ]
  },
  {
   "cell_type": "code",
   "execution_count": 2,
   "metadata": {},
   "outputs": [
    {
     "name": "stdout",
     "output_type": "stream",
     "text": [
      "Biaya Tertinggi: 150000\n",
      "Biaya Terendah: 15000\n"
     ]
    }
   ],
   "source": [
    "biaya_paling_tinggi = dataset['Biaya'].max()\n",
    "biaya_paling_rendah = dataset['Biaya'].min()\n",
    "\n",
    "print('Biaya Tertinggi:', biaya_paling_tinggi)\n",
    "print('Biaya Terendah:', biaya_paling_rendah)"
   ]
  }
 ],
 "metadata": {
  "kernelspec": {
   "display_name": "Python 3",
   "language": "python",
   "name": "python3"
  },
  "language_info": {
   "codemirror_mode": {
    "name": "ipython",
    "version": 3
   },
   "file_extension": ".py",
   "mimetype": "text/x-python",
   "name": "python",
   "nbconvert_exporter": "python",
   "pygments_lexer": "ipython3",
   "version": "3.10.12"
  }
 },
 "nbformat": 4,
 "nbformat_minor": 2
}
