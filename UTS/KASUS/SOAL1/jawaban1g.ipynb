{
 "cells": [
  {
   "cell_type": "markdown",
   "metadata": {},
   "source": [
    "g) Berapa frekuensi datang tertinggi dan terendah?"
   ]
  },
  {
   "cell_type": "code",
   "execution_count": 1,
   "metadata": {},
   "outputs": [
    {
     "data": {
      "text/plain": [
       "<bound method NDFrame.describe of      Hari  Datang   Biaya Mahasiswa\n",
       "0   Senin       2   60000       Ani\n",
       "1  Selasa       3  105000      Budi\n",
       "2    Rabu       4  100000      Jono\n",
       "3   Kamis       1   15000      Lono\n",
       "4   Jumat       2   40000      Joni\n",
       "5   Sabtu       5  150000       Ani\n",
       "6  Minggu       2   70000      Budi>"
      ]
     },
     "execution_count": 1,
     "metadata": {},
     "output_type": "execute_result"
    }
   ],
   "source": [
    "import numpy as np\n",
    "import pandas as pd\n",
    "\n",
    "dataset = pd.read_csv('Dataset.csv')\n",
    "dataset.describe\n"
   ]
  },
  {
   "cell_type": "code",
   "execution_count": 2,
   "metadata": {},
   "outputs": [
    {
     "name": "stdout",
     "output_type": "stream",
     "text": [
      "Frekuensi Tertinggi: datang 2 kali, dengan frekuensi 3 \n",
      "\n",
      "Frekuensi Terendah: datang 3 kali, dengan frekuensi 1\n",
      "Frekuensi Terendah: datang 4 kali, dengan frekuensi 1\n",
      "Frekuensi Terendah: datang 1 kali, dengan frekuensi 1\n",
      "Frekuensi Terendah: datang 5 kali, dengan frekuensi 1\n"
     ]
    }
   ],
   "source": [
    "data_kedatangan = dataset['Datang'].value_counts() \n",
    "\n",
    "datang_max = data_kedatangan.max()\n",
    "datang_min = data_kedatangan.min()\n",
    "\n",
    "frekuensi_max = data_kedatangan.idxmax()\n",
    "frekuensi_min = data_kedatangan.idxmin()\n",
    "all_frekuensi_min = data_kedatangan[data_kedatangan == 1].index\n",
    "\n",
    " \n",
    "print('Frekuensi Tertinggi: datang',frekuensi_max, 'kali, dengan frekuensi', datang_max, '\\n')\n",
    "\n",
    "for x in all_frekuensi_min:\n",
    "    print('Frekuensi Terendah: datang',x, 'kali, dengan frekuensi', datang_min)"
   ]
  }
 ],
 "metadata": {
  "kernelspec": {
   "display_name": "Python 3",
   "language": "python",
   "name": "python3"
  },
  "language_info": {
   "codemirror_mode": {
    "name": "ipython",
    "version": 3
   },
   "file_extension": ".py",
   "mimetype": "text/x-python",
   "name": "python",
   "nbconvert_exporter": "python",
   "pygments_lexer": "ipython3",
   "version": "3.10.12"
  }
 },
 "nbformat": 4,
 "nbformat_minor": 2
}
