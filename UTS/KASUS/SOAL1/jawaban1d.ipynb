{
 "cells": [
  {
   "cell_type": "markdown",
   "metadata": {},
   "source": [
    "d) Siapa yang paling banyak datang ke kampus?"
   ]
  },
  {
   "cell_type": "code",
   "execution_count": 2,
   "metadata": {},
   "outputs": [
    {
     "data": {
      "text/plain": [
       "<bound method NDFrame.describe of      Hari  Datang   Biaya Mahasiswa\n",
       "0   Senin       2   60000       Ani\n",
       "1  Selasa       3  105000      Budi\n",
       "2    Rabu       4  100000      Jono\n",
       "3   Kamis       1   15000      Lono\n",
       "4   Jumat       2   40000      Joni\n",
       "5   Sabtu       5  150000       Ani\n",
       "6  Minggu       2   70000      Budi>"
      ]
     },
     "execution_count": 2,
     "metadata": {},
     "output_type": "execute_result"
    }
   ],
   "source": [
    "import numpy as np\n",
    "import pandas as pd\n",
    "\n",
    "dataset = pd.read_csv('Dataset.csv')\n",
    "dataset.describe\n"
   ]
  },
  {
   "cell_type": "code",
   "execution_count": 3,
   "metadata": {},
   "outputs": [
    {
     "name": "stdout",
     "output_type": "stream",
     "text": [
      "Mahasiswa\n",
      "Ani     7\n",
      "Budi    5\n",
      "Joni    2\n",
      "Jono    4\n",
      "Lono    1\n",
      "Name: Datang, dtype: int64\n",
      "\n",
      "Mahasiswa Paling Banyak Datang: Ani\n"
     ]
    }
   ],
   "source": [
    "datasetx = dataset[['Datang','Mahasiswa']]\n",
    "\n",
    "total_datang = datasetx.groupby('Mahasiswa')['Datang'].sum()\n",
    "datang_max = total_datang.idxmax()\n",
    "\n",
    "print(total_datang)\n",
    "print('\\nMahasiswa Paling Banyak Datang:',datang_max)\n"
   ]
  }
 ],
 "metadata": {
  "kernelspec": {
   "display_name": "Python 3",
   "language": "python",
   "name": "python3"
  },
  "language_info": {
   "codemirror_mode": {
    "name": "ipython",
    "version": 3
   },
   "file_extension": ".py",
   "mimetype": "text/x-python",
   "name": "python",
   "nbconvert_exporter": "python",
   "pygments_lexer": "ipython3",
   "version": "3.10.12"
  }
 },
 "nbformat": 4,
 "nbformat_minor": 2
}
