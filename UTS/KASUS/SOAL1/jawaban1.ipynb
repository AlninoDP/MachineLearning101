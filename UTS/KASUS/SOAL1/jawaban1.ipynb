{
 "cells": [
  {
   "cell_type": "markdown",
   "metadata": {},
   "source": [
    "JAWABAN STUDI KASUS NOMOR 1"
   ]
  },
  {
   "cell_type": "code",
   "execution_count": 9,
   "metadata": {},
   "outputs": [
    {
     "data": {
      "text/plain": [
       "<bound method NDFrame.describe of      Hari  Datang   Biaya Mahasiswa\n",
       "0   Senin       2   60000       Ani\n",
       "1  Selasa       3  105000      Budi\n",
       "2    Rabu       4  100000      Jono\n",
       "3   Kamis       1   15000      Lono\n",
       "4   Jumat       2   40000      Joni\n",
       "5   Sabtu       5  150000       Ani\n",
       "6  Minggu       2   70000      Budi>"
      ]
     },
     "execution_count": 9,
     "metadata": {},
     "output_type": "execute_result"
    }
   ],
   "source": [
    "import numpy as np\n",
    "import pandas as pd\n",
    "\n",
    "dataset = pd.read_csv('Dataset.csv')\n",
    "dataset.describe\n"
   ]
  },
  {
   "cell_type": "markdown",
   "metadata": {},
   "source": [
    "a) Berapa rata-rata mahasiswa datang pada minggu ini?"
   ]
  },
  {
   "cell_type": "code",
   "execution_count": 10,
   "metadata": {},
   "outputs": [
    {
     "name": "stdout",
     "output_type": "stream",
     "text": [
      "Rata Rata Mahasiswa Datang: 2.7142857142857144\n"
     ]
    }
   ],
   "source": [
    "rata_rata_datang = dataset['Datang'].mean()\n",
    "\n",
    "print('Rata Rata Mahasiswa Datang:', rata_rata_datang)"
   ]
  },
  {
   "cell_type": "markdown",
   "metadata": {},
   "source": [
    "b) Kapan biaya tertinggi terjadi ?"
   ]
  },
  {
   "cell_type": "code",
   "execution_count": 11,
   "metadata": {},
   "outputs": [
    {
     "name": "stdout",
     "output_type": "stream",
     "text": [
      "Biaya Tertinggi:  150000\n",
      "Hari:  Sabtu\n"
     ]
    }
   ],
   "source": [
    "biaya_max = dataset['Biaya'].max()\n",
    "biaya_tertinggi = dataset[dataset['Biaya'] == biaya_max]\n",
    "hari_biaya_tertinggi = biaya_tertinggi['Hari'].values[0]\n",
    "print('Biaya Tertinggi: ',biaya_max)\n",
    "print('Hari: ',hari_biaya_tertinggi)\n",
    " "
   ]
  },
  {
   "cell_type": "markdown",
   "metadata": {},
   "source": [
    "c) Hari apa biaya lebih dari 110000?"
   ]
  },
  {
   "cell_type": "code",
   "execution_count": 12,
   "metadata": {},
   "outputs": [
    {
     "name": "stdout",
     "output_type": "stream",
     "text": [
      "0    False\n",
      "1    False\n",
      "2    False\n",
      "3    False\n",
      "4    False\n",
      "5     True\n",
      "6    False\n",
      "Name: Biaya, dtype: bool \n",
      "\n",
      "Hari:  Sabtu\n"
     ]
    }
   ],
   "source": [
    "hari_apa = dataset['Biaya']> 110000\n",
    "harinya = dataset[dataset['Biaya']> 110000]['Hari'].values[0]\n",
    "print(hari_apa,'\\n')\n",
    "print('Hari: ',harinya)"
   ]
  },
  {
   "cell_type": "markdown",
   "metadata": {},
   "source": [
    "d) Siapa yang paling banyak datang ke kampus?"
   ]
  },
  {
   "cell_type": "code",
   "execution_count": 13,
   "metadata": {},
   "outputs": [
    {
     "name": "stdout",
     "output_type": "stream",
     "text": [
      "Mahasiswa\n",
      "Ani     7\n",
      "Budi    5\n",
      "Joni    2\n",
      "Jono    4\n",
      "Lono    1\n",
      "Name: Datang, dtype: int64\n",
      "\n",
      "Mahasiswa Paling Banyak Datang: Ani\n"
     ]
    }
   ],
   "source": [
    "datasetx = dataset[['Datang','Mahasiswa']]\n",
    "\n",
    "total_datang = datasetx.groupby('Mahasiswa')['Datang'].sum()\n",
    "datang_max = total_datang.idxmax()\n",
    "\n",
    "print(total_datang)\n",
    "print('\\nMahasiswa Paling Banyak Datang:',datang_max)\n"
   ]
  },
  {
   "cell_type": "markdown",
   "metadata": {},
   "source": [
    "e) Siapa yang datang pada hari minggu?"
   ]
  },
  {
   "cell_type": "code",
   "execution_count": 14,
   "metadata": {},
   "outputs": [
    {
     "name": "stdout",
     "output_type": "stream",
     "text": [
      "0    False\n",
      "1    False\n",
      "2    False\n",
      "3    False\n",
      "4    False\n",
      "5    False\n",
      "6     True\n",
      "Name: Hari, dtype: bool\n",
      "\n",
      "Nama Mahasiswa: Budi\n"
     ]
    }
   ],
   "source": [
    "mahasiswa = dataset['Hari'] == 'Minggu'\n",
    "print(mahasiswa)\n",
    "\n",
    "mahasiswa_minggu = dataset[dataset['Hari'] == 'Minggu']['Mahasiswa'].values[0]\n",
    "print('\\nNama Mahasiswa:',mahasiswa_minggu)\n"
   ]
  },
  {
   "cell_type": "markdown",
   "metadata": {},
   "source": [
    "f) Berapa biaya tertinggi dan terendah?"
   ]
  },
  {
   "cell_type": "code",
   "execution_count": 15,
   "metadata": {},
   "outputs": [
    {
     "name": "stdout",
     "output_type": "stream",
     "text": [
      "Biaya Tertinggi: 150000\n",
      "Biaya Terendah: 15000\n"
     ]
    }
   ],
   "source": [
    "biaya_paling_tinggi = dataset['Biaya'].max()\n",
    "biaya_paling_rendah = dataset['Biaya'].min()\n",
    "\n",
    "print('Biaya Tertinggi:', biaya_paling_tinggi)\n",
    "print('Biaya Terendah:', biaya_paling_rendah)"
   ]
  },
  {
   "cell_type": "markdown",
   "metadata": {},
   "source": [
    "g) Berapa frekuensi datang tertinggi dan terendah?"
   ]
  },
  {
   "cell_type": "code",
   "execution_count": 16,
   "metadata": {},
   "outputs": [
    {
     "name": "stdout",
     "output_type": "stream",
     "text": [
      "Frekuensi Tertinggi: datang 2 kali, dengan frekuensi 3 \n",
      "\n",
      "Frekuensi Terendah: datang 3 kali, dengan frekuensi 1\n",
      "Frekuensi Terendah: datang 4 kali, dengan frekuensi 1\n",
      "Frekuensi Terendah: datang 1 kali, dengan frekuensi 1\n",
      "Frekuensi Terendah: datang 5 kali, dengan frekuensi 1\n"
     ]
    }
   ],
   "source": [
    "data_kedatangan = dataset['Datang'].value_counts() \n",
    "\n",
    "datang_max = data_kedatangan.max()\n",
    "datang_min = data_kedatangan.min()\n",
    "\n",
    "frekuensi_max = data_kedatangan.idxmax()\n",
    "frekuensi_min = data_kedatangan.idxmin()\n",
    "all_frekuensi_min = data_kedatangan[data_kedatangan == 1].index\n",
    "\n",
    " \n",
    "print('Frekuensi Tertinggi: datang',frekuensi_max, 'kali, dengan frekuensi', datang_max, '\\n')\n",
    "\n",
    "for x in all_frekuensi_min:\n",
    "    print('Frekuensi Terendah: datang',x, 'kali, dengan frekuensi', datang_min)"
   ]
  }
 ],
 "metadata": {
  "kernelspec": {
   "display_name": "Python 3",
   "language": "python",
   "name": "python3"
  },
  "language_info": {
   "codemirror_mode": {
    "name": "ipython",
    "version": 3
   },
   "file_extension": ".py",
   "mimetype": "text/x-python",
   "name": "python",
   "nbconvert_exporter": "python",
   "pygments_lexer": "ipython3",
   "version": "3.10.12"
  }
 },
 "nbformat": 4,
 "nbformat_minor": 2
}
