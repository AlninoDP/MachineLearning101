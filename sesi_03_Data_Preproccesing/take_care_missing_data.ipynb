{
 "cells": [
  {
   "cell_type": "code",
   "execution_count": 8,
   "metadata": {},
   "outputs": [
    {
     "name": "stdout",
     "output_type": "stream",
     "text": [
      "   Country  Age  Salary\n",
      "0   France   44   72000\n",
      "1    Spain   27   48000\n",
      "2  Germany   30   54000\n",
      "3    Spain   38   61000\n",
      "4  Germany   40   63777\n",
      "5   France   35   58000\n",
      "6    Spain   38   52000\n",
      "7   France   48   79000\n",
      "8  Germany   50   83000\n",
      "9   France   37   67000\n"
     ]
    }
   ],
   "source": [
    "### NOTES\n",
    "### imputer = SimpleImputer(missing_values=np.nan, strategy='mean')\n",
    "### membuat objek imputer dari kelas SimpleImputer. parameter penting:\n",
    "### missing_values=np.nan: Ini menunjukkan bahwa nilai yang hilang yang akan diimputasi adalah nilai NaN (Not-a-Number).\n",
    "### strategy='mean': mengganti nilai yang hilang dengan nilai rata-rata dari kolom yang sesuai.\n",
    "\n",
    "### imputer.fit adalah persiapan yang diperlukan sebelum menggunakan imputer untuk menggantikan data yang hilang dengan nilai-nilai yang sesuai.\n",
    "### memberi tahu imputer di mana letak kolom atau fitur yang perlu diperhatikan saat menghitung statistik untuk mengisi nilai-nilai yang hilang.\n",
    "### imputer.transform digunakan menggantikan nilai-nilai yang hilang dalam data yang telah diimputasi\n",
    "\n",
    "import numpy as np \n",
    "import pandas as pd\n",
    "from sklearn.impute import SimpleImputer\n",
    "\n",
    "#* importing dataset\n",
    "dataset = pd.read_csv('Dataset.csv') \n",
    "\n",
    "x = dataset.iloc[:, :-1]   \n",
    "\n",
    "\n",
    "#* taking care of missing data\n",
    "imputer = SimpleImputer(missing_values=np.nan, strategy='mean')\n",
    "imputer.fit(x.iloc[:, 1:3])\n",
    "x.iloc[:, 1:3] = imputer.transform(x.iloc[:, 1:3])\n",
    "x = x.astype({'Age': int, 'Salary': int}) # change the data type\n",
    "print(x)\n"
   ]
  }
 ],
 "metadata": {
  "kernelspec": {
   "display_name": "Python 3",
   "language": "python",
   "name": "python3"
  },
  "language_info": {
   "codemirror_mode": {
    "name": "ipython",
    "version": 3
   },
   "file_extension": ".py",
   "mimetype": "text/x-python",
   "name": "python",
   "nbconvert_exporter": "python",
   "pygments_lexer": "ipython3",
   "version": "3.10.12"
  }
 },
 "nbformat": 4,
 "nbformat_minor": 2
}
