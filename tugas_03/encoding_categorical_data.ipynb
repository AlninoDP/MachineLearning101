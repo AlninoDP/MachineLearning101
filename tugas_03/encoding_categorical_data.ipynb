{
 "cells": [
  {
   "cell_type": "markdown",
   "metadata": {},
   "source": [
    "Encoding Categorical Data"
   ]
  },
  {
   "cell_type": "markdown",
   "metadata": {},
   "source": [
    "Encoding Independent Data"
   ]
  },
  {
   "cell_type": "code",
   "execution_count": 4,
   "metadata": {},
   "outputs": [
    {
     "name": "stdout",
     "output_type": "stream",
     "text": [
      "[[    1     0     0    44 72000]\n",
      " [    0     0     1    27 48000]\n",
      " [    0     1     0    30 54000]\n",
      " [    0     0     1    38 61000]\n",
      " [    0     1     0    40 63777]\n",
      " [    1     0     0    35 58000]\n",
      " [    0     0     1    38 52000]\n",
      " [    1     0     0    48 79000]\n",
      " [    0     1     0    50 83000]\n",
      " [    1     0     0    37 67000]]\n"
     ]
    }
   ],
   "source": [
    "### NOTES\n",
    "### ColumnTransformer digunakan utk mengubah kolom kumpulan data secara berbeda.\n",
    "### Ini memungkinkan utk menerapkan transformasi berbeda ke subkumpulan kolom berbeda dalam kumpulan data \n",
    "### parameter transformer=[('label', transformer_yg_dipakai, [kolom_yg_diterapkan])\n",
    "\n",
    "### Independent variable (variabel bebas) adalah variabel yang diubah atau dimanipulasi dalam penelitian\n",
    "\n",
    "###  Independent variable dianggap sebagai penyebab, sedangkan dependent variable merupakan hasil atau reaksi dari perubahan independent variable.\n",
    "\n",
    "from sklearn.impute import SimpleImputer\n",
    "from sklearn.compose import ColumnTransformer\n",
    "from sklearn.preprocessing import OneHotEncoder\n",
    "import pandas as pd \n",
    "import numpy as np\n",
    " \n",
    "\n",
    "#* importing dataset\n",
    "dataset = pd.read_csv('Dataset.csv') \n",
    "x = dataset.iloc[:, :-1]   \n",
    "\n",
    "\n",
    "\n",
    "#* taking care of missing data\n",
    "imputer = SimpleImputer(missing_values=np.nan, strategy='mean')\n",
    "imputer.fit(x.iloc[:, 1:3])\n",
    "x.iloc[:, 1:3] = imputer.transform(x.iloc[:, 1:3]) \n",
    "\n",
    "#* Encoding\n",
    "ct = ColumnTransformer(transformers=[('encoder', OneHotEncoder(), [0])], remainder='passthrough')\n",
    "transformedX = np.array(ct.fit_transform(x)) \n",
    "transformedX = transformedX.astype(int)\n",
    "\n",
    "print(transformedX)"
   ]
  },
  {
   "cell_type": "markdown",
   "metadata": {},
   "source": [
    "Encoding Dependent Variable"
   ]
  },
  {
   "cell_type": "code",
   "execution_count": 3,
   "metadata": {},
   "outputs": [
    {
     "name": "stdout",
     "output_type": "stream",
     "text": [
      "[0 1 0 0 1 1 0 1 0 1]\n"
     ]
    }
   ],
   "source": [
    "### ### Dependent variable (variabel terikat) adalah variabel yang diukur atau diamati untuk melihat dampak perubahan dalam independent variable\n",
    "### Label Encoder digunakan untuk mengubah label atau nilai target yang bersifat kategorikal menjadi angka.\n",
    "### Misalnya, ketika Anda memiliki label seperti \"merah,\" \"biru,\" dan \"hijau,\" Anda dapat menggunakan LabelEncoder \n",
    "### untuk mengubahnya menjadi 0, 1, dan 2.\n",
    "\n",
    "from sklearn.preprocessing import LabelEncoder\n",
    "le = LabelEncoder()\n",
    "y = dataset.iloc[: , -1]\n",
    "y = le.fit_transform(y)\n",
    "print(y)"
   ]
  }
 ],
 "metadata": {
  "kernelspec": {
   "display_name": "Python 3",
   "language": "python",
   "name": "python3"
  },
  "language_info": {
   "codemirror_mode": {
    "name": "ipython",
    "version": 3
   },
   "file_extension": ".py",
   "mimetype": "text/x-python",
   "name": "python",
   "nbconvert_exporter": "python",
   "pygments_lexer": "ipython3",
   "version": "3.10.12"
  }
 },
 "nbformat": 4,
 "nbformat_minor": 2
}
