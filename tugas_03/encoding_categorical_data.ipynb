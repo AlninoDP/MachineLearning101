{
 "cells": [
  {
   "cell_type": "code",
   "execution_count": 28,
   "metadata": {},
   "outputs": [
    {
     "name": "stdout",
     "output_type": "stream",
     "text": [
      "[[1.0e+00 0.0e+00 0.0e+00 4.4e+01 7.2e+04]\n",
      " [0.0e+00 0.0e+00 1.0e+00 2.7e+01 4.8e+04]\n",
      " [0.0e+00 1.0e+00 0.0e+00 3.0e+01 5.4e+04]\n",
      " [0.0e+00 0.0e+00 1.0e+00 3.8e+01 6.1e+04]\n",
      " [0.0e+00 1.0e+00 0.0e+00 4.0e+01 6.4e+04]\n",
      " [1.0e+00 0.0e+00 0.0e+00 3.5e+01 5.8e+04]\n",
      " [0.0e+00 0.0e+00 1.0e+00 3.9e+01 5.2e+04]\n",
      " [1.0e+00 0.0e+00 0.0e+00 4.8e+01 7.9e+04]\n",
      " [0.0e+00 1.0e+00 0.0e+00 5.0e+01 8.3e+04]\n",
      " [1.0e+00 0.0e+00 0.0e+00 3.7e+01 6.7e+04]]\n"
     ]
    }
   ],
   "source": [
    "### NOTES\n",
    "### ColumnTransformer digunakan utk mengubah kolom kumpulan data secara berbeda.\n",
    "### Ini memungkinkan utk menerapkan transformasi berbeda ke subkumpulan kolom berbeda dalam kumpulan data \n",
    "\n",
    "### parameter transformer=[('label', transformer_yg_dipakai, [kolom_yg_diterapkan])\n",
    "\n",
    "from sklearn.impute import SimpleImputer\n",
    "from sklearn.compose import ColumnTransformer\n",
    "from sklearn.preprocessing import OneHotEncoder\n",
    "import pandas as pd \n",
    "import numpy as np\n",
    " \n",
    "\n",
    "#* importing dataset\n",
    "dataset = pd.read_csv('Dataset.csv') \n",
    "x = dataset.iloc[:, :-1]  \n",
    "\n",
    "#* taking care of missing data\n",
    "imputer = SimpleImputer(missing_values=np.nan, strategy='mean')\n",
    "imputer.fit(x.iloc[:, 1:3])\n",
    "x.iloc[:, 1:3] = imputer.transform(x.iloc[:, 1:3])\n",
    "\n",
    "#* Encoding\n",
    "ct = ColumnTransformer(transformers=[('encoder', OneHotEncoder(), [0])], remainder='passthrough')\n",
    "transformedX = np.array(ct.fit_transform(x)) \n",
    "\n",
    "print(transformedX)\n",
    "\n"
   ]
  }
 ],
 "metadata": {
  "kernelspec": {
   "display_name": "Python 3",
   "language": "python",
   "name": "python3"
  },
  "language_info": {
   "codemirror_mode": {
    "name": "ipython",
    "version": 3
   },
   "file_extension": ".py",
   "mimetype": "text/x-python",
   "name": "python",
   "nbconvert_exporter": "python",
   "pygments_lexer": "ipython3",
   "version": "3.10.12"
  }
 },
 "nbformat": 4,
 "nbformat_minor": 2
}
