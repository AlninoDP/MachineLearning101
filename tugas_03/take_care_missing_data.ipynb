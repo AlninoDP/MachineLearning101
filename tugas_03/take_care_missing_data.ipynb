{
 "cells": [
  {
   "cell_type": "code",
   "execution_count": 25,
   "metadata": {},
   "outputs": [
    {
     "name": "stdout",
     "output_type": "stream",
     "text": [
      "   Country        Age        Salary\n",
      "0   France  44.000000  72000.000000\n",
      "1    Spain  27.000000  48000.000000\n",
      "2  Germany  30.000000  54000.000000\n",
      "3    Spain  38.000000  61000.000000\n",
      "4  Germany  40.000000  63777.777778\n",
      "5   France  35.000000  58000.000000\n",
      "6    Spain  38.777778  52000.000000\n",
      "7   France  48.000000  79000.000000\n",
      "8  Germany  50.000000  83000.000000\n",
      "9   France  37.000000  67000.000000\n"
     ]
    }
   ],
   "source": [
    "### NOTES\n",
    "### imputer = SimpleImputer(missing_values=np.nan, strategy='mean')\n",
    "### membuat objek imputer dari kelas SimpleImputer. parameter penting:\n",
    "### missing_values=np.nan: Ini menunjukkan bahwa nilai yang hilang yang akan diimputasi adalah nilai NaN (Not-a-Number).\n",
    "### strategy='mean': mengganti nilai yang hilang dengan nilai rata-rata dari kolom yang sesuai.\n",
    "\n",
    "### imputer.fit adalah persiapan yang diperlukan sebelum menggunakan imputer untuk menggantikan data yang hilang dengan nilai-nilai yang sesuai.\n",
    "### memberi tahu imputer di mana letak kolom atau fitur yang perlu diperhatikan saat menghitung statistik untuk mengisi nilai-nilai yang hilang.\n",
    "### imputer.transform digunakan menggantikan nilai-nilai yang hilang dalam data yang telah diimputasi\n",
    "\n",
    "import numpy as np\n",
    "import matplotlib.pyplot as plt\n",
    "import pandas as pd\n",
    "from sklearn.impute import SimpleImputer\n",
    "\n",
    "#* importing dataset\n",
    "dataset = pd.read_csv('Dataset.csv') \n",
    "\n",
    "x = dataset.iloc[:, :-1]  \n",
    "y = dataset.iloc[: , -1]  \n",
    "z = dataset.iloc[[2]]\n",
    "\n",
    "#* taking care of missing data\n",
    "imputer = SimpleImputer(missing_values=np.nan, strategy='mean')\n",
    "imputer.fit(x.iloc[:, 1:3])\n",
    "x.iloc[:, 1:3] = imputer.transform(x.iloc[:, 1:3])\n",
    "print(x)\n"
   ]
  }
 ],
 "metadata": {
  "kernelspec": {
   "display_name": "Python 3",
   "language": "python",
   "name": "python3"
  },
  "language_info": {
   "codemirror_mode": {
    "name": "ipython",
    "version": 3
   },
   "file_extension": ".py",
   "mimetype": "text/x-python",
   "name": "python",
   "nbconvert_exporter": "python",
   "pygments_lexer": "ipython3",
   "version": "3.10.12"
  }
 },
 "nbformat": 4,
 "nbformat_minor": 2
}
