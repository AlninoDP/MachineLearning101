{
 "cells": [
  {
   "cell_type": "code",
   "execution_count": 21,
   "metadata": {},
   "outputs": [
    {
     "name": "stdout",
     "output_type": "stream",
     "text": [
      "Country      0\n",
      "Age          1\n",
      "Salary       1\n",
      "Purchased    0\n",
      "dtype: int64\n",
      " \n",
      "   Country   Age   Salary Purchased\n",
      "2  Germany  30.0  54000.0        No\n",
      " \n",
      "   Country   Age   Salary\n",
      "0   France  44.0  72000.0\n",
      "1    Spain  27.0  48000.0\n",
      "2  Germany  30.0  54000.0\n",
      "3    Spain  38.0  61000.0\n",
      "4  Germany  40.0      NaN\n",
      "5   France  35.0  58000.0\n",
      "6    Spain   NaN  52000.0\n",
      "7   France  48.0  79000.0\n",
      "8  Germany  50.0  83000.0\n",
      "9   France  37.0  67000.0\n",
      " \n",
      "0     No\n",
      "1    Yes\n",
      "2     No\n",
      "3     No\n",
      "4    Yes\n",
      "5    Yes\n",
      "6     No\n",
      "7    Yes\n",
      "8     No\n",
      "9    Yes\n",
      "Name: Purchased, dtype: object\n"
     ]
    }
   ],
   "source": [
    "### NOTES\n",
    "### .iloc digunakan untuk mengakses data berdasarkan indeks baris(row) dan kolom (column) tertentu\n",
    "### .isnull untuk check apakah ada data yg berisi null \n",
    "### .sum menghitung ada berpa data yg berisi null \n",
    " \n",
    "import pandas as pd\n",
    "\n",
    "#* importing dataset\n",
    "dataset = pd.read_csv('Dataset.csv')\n",
    "\n",
    "x = dataset.iloc[:, :-1] # mengambil semua baris dan kolom kecuali kolom terakhir\n",
    "y = dataset.iloc[: , -1] # mengambil semua baris dan hanya mengambil kolom terakhir\n",
    "z = dataset.iloc[[2]] # berisi baris ke 2 dari dataset\n",
    "\n",
    "# dataNull = dataset.isnull() \n",
    "dataNull = dataset.isnull().sum()\n",
    "\n",
    "print(dataNull) \n",
    "print(' ')\n",
    "print(z)  \n",
    "print(' ')\n",
    "print(x)  \n",
    "print(' ')\n",
    "print(y)  \n"
   ]
  }
 ],
 "metadata": {
  "kernelspec": {
   "display_name": "Python 3",
   "language": "python",
   "name": "python3"
  },
  "language_info": {
   "codemirror_mode": {
    "name": "ipython",
    "version": 3
   },
   "file_extension": ".py",
   "mimetype": "text/x-python",
   "name": "python",
   "nbconvert_exporter": "python",
   "pygments_lexer": "ipython3",
   "version": "3.10.12"
  }
 },
 "nbformat": 4,
 "nbformat_minor": 2
}
